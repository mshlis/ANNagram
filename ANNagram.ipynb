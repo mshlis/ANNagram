{
 "cells": [
  {
   "cell_type": "code",
   "execution_count": 1,
   "metadata": {},
   "outputs": [],
   "source": [
    "import numpy as np\n",
    "import pandas as pd\n",
    "from tqdm._tqdm_notebook import tqdm_notebook as tqdm"
   ]
  },
  {
   "cell_type": "code",
   "execution_count": 2,
   "metadata": {},
   "outputs": [
    {
     "data": {
      "application/vnd.jupyter.widget-view+json": {
       "model_id": "b4032912cc014449a3c2379422b4d756",
       "version_major": 2,
       "version_minor": 0
      },
      "text/plain": [
       "HBox(children=(IntProgress(value=0, max=466514), HTML(value='')))"
      ]
     },
     "metadata": {},
     "output_type": "display_data"
    },
    {
     "name": "stdout",
     "output_type": "stream",
     "text": [
      "\n"
     ]
    }
   ],
   "source": [
    "with open('words.txt', 'rb') as f:\n",
    "    words = set()\n",
    "    for i, w in enumerate(tqdm(f.readlines())):\n",
    "        try:\n",
    "            w = w.decode().strip('\\n')\n",
    "            if w.isalpha(): \n",
    "                words.add(w.lower())\n",
    "        except:\n",
    "            pass"
   ]
  },
  {
   "cell_type": "code",
   "execution_count": 3,
   "metadata": {},
   "outputs": [],
   "source": [
    "start_meta = '<s>'\n",
    "end_meta = '<e>'\n",
    "mask_meta = '<m>'\n",
    "letters = 'abcdefghijklmnopqrstuvwxyz'\n",
    "\n",
    "vocab = [start_meta, end_meta, mask_meta] + list(letters)\n",
    "vocab_to_ind = {w:i for i,w in enumerate(vocab)}"
   ]
  },
  {
   "cell_type": "code",
   "execution_count": 4,
   "metadata": {},
   "outputs": [
    {
     "name": "stderr",
     "output_type": "stream",
     "text": [
      "WARNING: Logging before flag parsing goes to stderr.\n",
      "W1006 09:40:21.759448 4563035584 deprecation_wrapper.py:119] From /Users/mshlis/Projects/ANNagram/models.py:5: The name tf.keras.layers.CuDNNGRU is deprecated. Please use tf.compat.v1.keras.layers.CuDNNGRU instead.\n",
      "\n",
      "W1006 09:40:21.760257 4563035584 deprecation_wrapper.py:119] From /Users/mshlis/Projects/ANNagram/models.py:5: The name tf.keras.layers.CuDNNLSTM is deprecated. Please use tf.compat.v1.keras.layers.CuDNNLSTM instead.\n",
      "\n",
      "W1006 09:40:21.806939 4563035584 deprecation.py:506] From /Users/mshlis/anaconda3/envs/tf_1.x/lib/python3.7/site-packages/tensorflow/python/keras/initializers.py:119: calling RandomUniform.__init__ (from tensorflow.python.ops.init_ops) with dtype is deprecated and will be removed in a future version.\n",
      "Instructions for updating:\n",
      "Call initializer instance with the dtype argument instead of passing it to the constructor\n",
      "W1006 09:40:21.818880 4563035584 deprecation.py:506] From /Users/mshlis/anaconda3/envs/tf_1.x/lib/python3.7/site-packages/tensorflow/python/ops/init_ops.py:1251: calling VarianceScaling.__init__ (from tensorflow.python.ops.init_ops) with dtype is deprecated and will be removed in a future version.\n",
      "Instructions for updating:\n",
      "Call initializer instance with the dtype argument instead of passing it to the constructor\n",
      "W1006 09:40:22.075906 4563035584 deprecation_wrapper.py:119] From /Users/mshlis/Projects/ANNagram/models.py:169: The name tf.matrix_band_part is deprecated. Please use tf.linalg.band_part instead.\n",
      "\n"
     ]
    }
   ],
   "source": [
    "import models\n",
    "\n",
    "model = models.pointer_transformer(alphabet_size=len(vocab),\n",
    "                                   dim=64,\n",
    "                                   num_heads=6,\n",
    "                                   blocks=4,\n",
    "                                   mask_meta=vocab_to_ind[mask_meta])"
   ]
  },
  {
   "cell_type": "code",
   "execution_count": 5,
   "metadata": {},
   "outputs": [
    {
     "data": {
      "application/vnd.jupyter.widget-view+json": {
       "model_id": "5513830c488a4fa19a4acf8e05632cee",
       "version_major": 2,
       "version_minor": 0
      },
      "text/plain": [
       "HBox(children=(IntProgress(value=0, max=416293), HTML(value='')))"
      ]
     },
     "metadata": {},
     "output_type": "display_data"
    },
    {
     "name": "stdout",
     "output_type": "stream",
     "text": [
      "\n",
      "(329433, 12) (329433, 14) (329433, 14)\n"
     ]
    }
   ],
   "source": [
    "lengths = [len(word) for word in words]\n",
    "\n",
    "def translate(word, with_metas):\n",
    "    res = [vocab_to_ind[c] for c in word]\n",
    "    if not with_metas:\n",
    "        return res\n",
    "    return [vocab_to_ind[start_meta]] + res + [vocab_to_ind[end_meta]]\n",
    "\n",
    "X0 = []\n",
    "X1 = []\n",
    "maxlen = 12\n",
    "\n",
    "for word in tqdm(words):\n",
    "    if len(word) < maxlen:\n",
    "        X0.append(translate(word, with_metas=False))\n",
    "        X1.append(translate(word, with_metas=True))\n",
    "\n",
    "\n",
    "fill_value = vocab_to_ind[mask_meta]\n",
    "def pad_sequences(sequences, maxlen, fill_value):\n",
    "    X = fill_value * np.ones((len(sequences), maxlen))\n",
    "    lengths = [len(z) for z in sequences]\n",
    "    mask = np.arange(maxlen) < np.array(lengths).reshape(-1,1)\n",
    "    X[mask] = np.concatenate(sequences)\n",
    "    return X\n",
    "\n",
    "X0 = pad_sequences(X0, maxlen, vocab_to_ind[mask_meta])\n",
    "X1 = pad_sequences(X1, maxlen+2, vocab_to_ind[mask_meta])\n",
    "Y = np.concatenate([X1[:,1:], vocab_to_ind[mask_meta]*np.ones((len(X0), 1))], -1)\n",
    "\n",
    "print(X0.shape, X1.shape, Y.shape)"
   ]
  },
  {
   "cell_type": "code",
   "execution_count": 8,
   "metadata": {},
   "outputs": [],
   "source": [
    "import pickle as pkl\n",
    "pkl.dump([X0, X1, Y, vocab_to_ind], open('data.npy', 'wb'))"
   ]
  },
  {
   "cell_type": "code",
   "execution_count": 11,
   "metadata": {},
   "outputs": [],
   "source": [
    "import tensorflow as tf\n",
    "from tensorflow import keras\n",
    "\n",
    "def loss(y_true, y_pred):\n",
    "    mask = tf.cast(tf.not_equal(y_true[:, :, vocab_to_ind[mask_meta]], 1.), tf.float32)\n",
    "    logits = tf.log(y_pred + 1e-9)\n",
    "    return - tf.expand_dims(mask,-1) * y_true * logits\n",
    "\n",
    "model.compile('adam', loss)"
   ]
  },
  {
   "cell_type": "code",
   "execution_count": null,
   "metadata": {},
   "outputs": [
    {
     "name": "stdout",
     "output_type": "stream",
     "text": [
      "Epoch 1/3\n"
     ]
    }
   ],
   "source": [
    "_X1 = np.random.choice(len(vocab), size=(2400, 14))\n",
    "_X0 = np.random.choice(len(vocab), size=(2400, 12))\n",
    "_Y = np.ones((2400,14,12)) / 12\n",
    "\n",
    "history = model.fit([_X1, _X0], _Y, batch_size=20, epochs=3)"
   ]
  },
  {
   "cell_type": "code",
   "execution_count": null,
   "metadata": {},
   "outputs": [],
   "source": []
  }
 ],
 "metadata": {
  "kernelspec": {
   "display_name": "tf_1.x",
   "language": "python",
   "name": "tf_1.x"
  },
  "language_info": {
   "codemirror_mode": {
    "name": "ipython",
    "version": 3
   },
   "file_extension": ".py",
   "mimetype": "text/x-python",
   "name": "python",
   "nbconvert_exporter": "python",
   "pygments_lexer": "ipython3",
   "version": "3.7.4"
  }
 },
 "nbformat": 4,
 "nbformat_minor": 4
}
